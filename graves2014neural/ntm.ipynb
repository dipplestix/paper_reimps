{
 "cells": [
  {
   "cell_type": "code",
   "execution_count": 1,
   "metadata": {},
   "outputs": [],
   "source": [
    "import torch.nn as nn\n",
    "import torch\n",
    "import torch.nn.functional as F"
   ]
  },
  {
   "cell_type": "code",
   "execution_count": 3,
   "metadata": {},
   "outputs": [],
   "source": [
    "k = torch.rand(100, 10)\n",
    "M = torch.rand(100, 20, 10)\n",
    "beta = torch.rand(100)\n",
    "g = torch.rand(100)\n",
    "w = torch.rand(100, 20)\n",
    "gamma = torch.rand(100)\n",
    "s = torch.rand(100, 3)\n",
    "shifts = torch.tensor([-1, 0, 1])\n",
    "\n",
    "\n",
    "def content_addressing(k, M, beta):\n",
    "    sim = F.cosine_similarity(k.unsqueeze(1), M.unsqueeze(0), dim=-1)\n",
    "    wc = F.softmax(beta.unsqueeze(1)*sim, dim=0)\n",
    "    wc = wc.squeeze(0)\n",
    "    return wc\n",
    "\n",
    "def interpolation(g, wc, w):\n",
    "    g = g.unsqueeze(1)\n",
    "    wg = g*wc + (1 - g)*w\n",
    "    return wg\n",
    "\n",
    "def shift(wg, s, shifts):\n",
    "    N = wg.shape[1]\n",
    "    w_tilde = torch.zeros_like(wg)\n",
    "    for i in range(N):\n",
    "        for j in range(N):\n",
    "            if (i - j) % N in shifts:\n",
    "                w_tilde[:, i] = wg[:, j]*s[:, (shifts==((i - j) % N)).nonzero().squeeze()]\n",
    "    return w_tilde\n",
    "\n",
    "\n",
    "def sharpening(w_tilde, gamma):\n",
    "    w_tilde = torch.pow(w_tilde, gamma.unsqueeze(1))\n",
    "    wt = w_tilde/w_tilde.sum()   \n",
    "    return wt \n",
    "\n"
   ]
  },
  {
   "cell_type": "code",
   "execution_count": 5,
   "metadata": {},
   "outputs": [
    {
     "name": "stdout",
     "output_type": "stream",
     "text": [
      "torch.Size([100, 20])\n"
     ]
    },
    {
     "data": {
      "text/plain": [
       "torch.Size([100, 10])"
      ]
     },
     "execution_count": 5,
     "metadata": {},
     "output_type": "execute_result"
    }
   ],
   "source": [
    "wc = content_addressing(k, M, beta)\n",
    "wg = interpolation(g, wc, w)\n",
    "w_tilde = shift(wg, s, shifts)\n",
    "wt = sharpening(w_tilde, gamma)\n",
    "print(wt.shape)\n",
    "\n",
    "torch.einsum('ij, ijk->ik', w, M).shape"
   ]
  },
  {
   "cell_type": "code",
   "execution_count": null,
   "metadata": {},
   "outputs": [],
   "source": []
  }
 ],
 "metadata": {
  "kernelspec": {
   "display_name": "Python 3",
   "language": "python",
   "name": "python3"
  },
  "language_info": {
   "codemirror_mode": {
    "name": "ipython",
    "version": 3
   },
   "file_extension": ".py",
   "mimetype": "text/x-python",
   "name": "python",
   "nbconvert_exporter": "python",
   "pygments_lexer": "ipython3",
   "version": "3.12.2"
  }
 },
 "nbformat": 4,
 "nbformat_minor": 2
}
