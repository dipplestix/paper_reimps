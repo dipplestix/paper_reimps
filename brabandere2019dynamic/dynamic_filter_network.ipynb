{
 "cells": [
  {
   "cell_type": "code",
   "execution_count": 1,
   "metadata": {},
   "outputs": [],
   "source": [
    "import torch.nn as nn\n",
    "import torch\n",
    "import torch.nn.functional as F"
   ]
  },
  {
   "cell_type": "code",
   "execution_count": 2,
   "metadata": {},
   "outputs": [],
   "source": [
    "class FilterGeneratingNetwork(nn.Module):\n",
    "    def __init__(self, s, in_chan, out_chan):\n",
    "        super().__init__()\n",
    "        \n",
    "        self.net = nn.Sequential(\n",
    "            nn.Conv2d(in_chan, 32, 3),\n",
    "            nn.BatchNorm2d(32),\n",
    "            nn.ReLU(),\n",
    "            nn.Conv2d(32, 64, 3),\n",
    "            nn.BatchNorm2d(64),\n",
    "            nn.ReLU(),\n",
    "            nn.Conv2d(64, 16, 3),\n",
    "            nn.BatchNorm2d(16),\n",
    "            nn.ReLU(),\n",
    "            nn.Flatten(),\n",
    "            nn.LazyLinear(256),\n",
    "            nn.ReLU(),\n",
    "            nn.Linear(256, s*s*in_chan*out_chan)\n",
    "        )\n",
    "\n",
    "    def forward(self, x):\n",
    "        return self.net(x)\n",
    "    \n",
    "class DynamicFilterNetworkLayer(nn.Module):\n",
    "    def __init__(self, s, in_chan, out_chan):\n",
    "        super().__init__()\n",
    "        self.in_chan = in_chan\n",
    "        self.out_chan = out_chan\n",
    "        self.s = s\n",
    "\n",
    "        self.fitler_generator = FilterGeneratingNetwork(s, in_chan, out_chan)\n",
    "    \n",
    "    def forward(self, x):\n",
    "        batch_size, _, h, w = x.shape\n",
    "        filters = self.fitler_generator(x)\n",
    "        filters = filters.view(-1, self.in_chan, self.s, self.s)\n",
    "        x = x.view(-1, h, w)\n",
    "        out = F.conv2d(x, filters, groups=batch_size, padding=1)\n",
    "        out = out.view(batch_size, -1, h, w)\n",
    "        return out"
   ]
  },
  {
   "cell_type": "code",
   "execution_count": 3,
   "metadata": {},
   "outputs": [],
   "source": [
    "images = torch.rand(100, 20, 32, 32)\n",
    "net = DynamicFilterNetworkLayer(3, 20, 64)"
   ]
  },
  {
   "cell_type": "code",
   "execution_count": 4,
   "metadata": {},
   "outputs": [
    {
     "data": {
      "text/plain": [
       "torch.Size([100, 64, 32, 32])"
      ]
     },
     "execution_count": 4,
     "metadata": {},
     "output_type": "execute_result"
    }
   ],
   "source": [
    "net(images).shape"
   ]
  },
  {
   "cell_type": "code",
   "execution_count": null,
   "metadata": {},
   "outputs": [],
   "source": []
  },
  {
   "cell_type": "code",
   "execution_count": null,
   "metadata": {},
   "outputs": [],
   "source": []
  }
 ],
 "metadata": {
  "kernelspec": {
   "display_name": "Python 3",
   "language": "python",
   "name": "python3"
  },
  "language_info": {
   "codemirror_mode": {
    "name": "ipython",
    "version": 3
   },
   "file_extension": ".py",
   "mimetype": "text/x-python",
   "name": "python",
   "nbconvert_exporter": "python",
   "pygments_lexer": "ipython3",
   "version": "3.12.2"
  }
 },
 "nbformat": 4,
 "nbformat_minor": 2
}
