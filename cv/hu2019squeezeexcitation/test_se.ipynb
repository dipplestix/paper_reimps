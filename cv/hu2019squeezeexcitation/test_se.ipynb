{
 "cells": [
  {
   "cell_type": "code",
   "execution_count": 1,
   "metadata": {},
   "outputs": [],
   "source": [
    "import torch\n",
    "import torch.nn as nn\n",
    "import torch.nn.functional as F\n",
    "\n",
    "from se import SELayer"
   ]
  },
  {
   "cell_type": "code",
   "execution_count": 2,
   "metadata": {},
   "outputs": [
    {
     "name": "stdout",
     "output_type": "stream",
     "text": [
      "torch.Size([1, 64, 10, 10])\n",
      "Are all channels uniform?\n",
      "tensor([[True, True, True, True, True, True, True, True, True, True, True, True,\n",
      "         True, True, True, True, True, True, True, True, True, True, True, True,\n",
      "         True, True, True, True, True, True, True, True, True, True, True, True,\n",
      "         True, True, True, True, True, True, True, True, True, True, True, True,\n",
      "         True, True, True, True, True, True, True, True, True, True, True, True,\n",
      "         True, True, True, True]])\n",
      "\n",
      "Unique value for each channel:\n",
      "tensor([0.4363, 0.4966, 0.5201, 0.4412, 0.5080, 0.5477, 0.5303, 0.5400, 0.5642,\n",
      "        0.5381, 0.5333, 0.4862, 0.5228, 0.4813, 0.4506, 0.4666, 0.5252, 0.5183,\n",
      "        0.4909, 0.5264, 0.4693, 0.5380, 0.5023, 0.4673, 0.5178, 0.5399, 0.5029,\n",
      "        0.4717, 0.5245, 0.4860, 0.4947, 0.4470, 0.4883, 0.5497, 0.4320, 0.4914,\n",
      "        0.4538, 0.4761, 0.4877, 0.5337, 0.4312, 0.4842, 0.5119, 0.4454, 0.5397,\n",
      "        0.5624, 0.5098, 0.4752, 0.4539, 0.5492, 0.4823, 0.4457, 0.4627, 0.5186,\n",
      "        0.5458, 0.5127, 0.5000, 0.4806, 0.4793, 0.5296, 0.5134, 0.4739, 0.4463,\n",
      "        0.4882], grad_fn=<SqueezeBackward0>)\n",
      "\n",
      "Are all values between 0 and 1?\n",
      "tensor(True)\n"
     ]
    }
   ],
   "source": [
    "data = torch.ones(1, 64, 10, 10)\n",
    "se = SELayer(64)\n",
    "out = se(data)\n",
    "\n",
    "print(out.shape)\n",
    "# Check if all channels have only one unique value\n",
    "is_uniform = torch.all(torch.eq(out, out[:, :, :1, :1].expand_as(out)), dim=(2, 3))\n",
    "\n",
    "print(\"Are all channels uniform?\")\n",
    "print(is_uniform)\n",
    "\n",
    "# Print the unique value for each channel\n",
    "unique_values = out[:, :, 0, 0].squeeze()\n",
    "print(\"\\nUnique value for each channel:\")\n",
    "print(unique_values)\n",
    "\n",
    "# Check if all values are between 0 and 1\n",
    "is_between_0_and_1 = torch.all((out >= 0) & (out <= 1))\n",
    "print(\"\\nAre all values between 0 and 1?\")\n",
    "print(is_between_0_and_1)\n"
   ]
  },
  {
   "cell_type": "code",
   "execution_count": null,
   "metadata": {},
   "outputs": [],
   "source": []
  }
 ],
 "metadata": {
  "kernelspec": {
   "display_name": "Python 3",
   "language": "python",
   "name": "python3"
  },
  "language_info": {
   "codemirror_mode": {
    "name": "ipython",
    "version": 3
   },
   "file_extension": ".py",
   "mimetype": "text/x-python",
   "name": "python",
   "nbconvert_exporter": "python",
   "pygments_lexer": "ipython3",
   "version": "3.12.2"
  }
 },
 "nbformat": 4,
 "nbformat_minor": 2
}
