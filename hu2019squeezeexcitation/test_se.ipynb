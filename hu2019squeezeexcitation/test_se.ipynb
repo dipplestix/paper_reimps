{
 "cells": [
  {
   "cell_type": "code",
   "execution_count": 4,
   "metadata": {},
   "outputs": [],
   "source": [
    "import torch\n",
    "import torch.nn as nn\n",
    "import torch.nn.functional as F\n",
    "\n",
    "from se import SELayer"
   ]
  },
  {
   "cell_type": "code",
   "execution_count": 5,
   "metadata": {},
   "outputs": [
    {
     "name": "stdout",
     "output_type": "stream",
     "text": [
      "torch.Size([1, 64, 10, 10])\n",
      "Are all channels uniform?\n",
      "tensor([[True, True, True, True, True, True, True, True, True, True, True, True,\n",
      "         True, True, True, True, True, True, True, True, True, True, True, True,\n",
      "         True, True, True, True, True, True, True, True, True, True, True, True,\n",
      "         True, True, True, True, True, True, True, True, True, True, True, True,\n",
      "         True, True, True, True, True, True, True, True, True, True, True, True,\n",
      "         True, True, True, True]])\n",
      "\n",
      "Unique value for each channel:\n",
      "tensor([0.5285, 0.4783, 0.5160, 0.4867, 0.5214, 0.5058, 0.4900, 0.5231, 0.5068,\n",
      "        0.5167, 0.4938, 0.4858, 0.5186, 0.4938, 0.4866, 0.5091, 0.5236, 0.5041,\n",
      "        0.5286, 0.4907, 0.4885, 0.5179, 0.4919, 0.5187, 0.5152, 0.5057, 0.5090,\n",
      "        0.5237, 0.5075, 0.5032, 0.5054, 0.5091, 0.4916, 0.5243, 0.5091, 0.5245,\n",
      "        0.4930, 0.4708, 0.4862, 0.5070, 0.5179, 0.4831, 0.4833, 0.4994, 0.4734,\n",
      "        0.5152, 0.4888, 0.5022, 0.5120, 0.4987, 0.4713, 0.5145, 0.5134, 0.4914,\n",
      "        0.5268, 0.4854, 0.5147, 0.5209, 0.4828, 0.5155, 0.4849, 0.4957, 0.5105,\n",
      "        0.5248], grad_fn=<SqueezeBackward0>)\n",
      "\n",
      "Are all values between 0 and 1?\n",
      "tensor(True)\n"
     ]
    }
   ],
   "source": [
    "data = torch.ones(1, 64, 10, 10)\n",
    "se = SELayer(64)\n",
    "out = se(data)\n",
    "\n",
    "print(out.shape)\n",
    "# Check if all channels have only one unique value\n",
    "is_uniform = torch.all(torch.eq(out, out[:, :, :1, :1].expand_as(out)), dim=(2, 3))\n",
    "\n",
    "print(\"Are all channels uniform?\")\n",
    "print(is_uniform)\n",
    "\n",
    "# Print the unique value for each channel\n",
    "unique_values = out[:, :, 0, 0].squeeze()\n",
    "print(\"\\nUnique value for each channel:\")\n",
    "print(unique_values)\n",
    "\n",
    "# Check if all values are between 0 and 1\n",
    "is_between_0_and_1 = torch.all((out >= 0) & (out <= 1))\n",
    "print(\"\\nAre all values between 0 and 1?\")\n",
    "print(is_between_0_and_1)\n"
   ]
  },
  {
   "cell_type": "code",
   "execution_count": null,
   "metadata": {},
   "outputs": [],
   "source": []
  }
 ],
 "metadata": {
  "kernelspec": {
   "display_name": "Python 3",
   "language": "python",
   "name": "python3"
  },
  "language_info": {
   "codemirror_mode": {
    "name": "ipython",
    "version": 3
   },
   "file_extension": ".py",
   "mimetype": "text/x-python",
   "name": "python",
   "nbconvert_exporter": "python",
   "pygments_lexer": "ipython3",
   "version": "3.12.7"
  }
 },
 "nbformat": 4,
 "nbformat_minor": 2
}
